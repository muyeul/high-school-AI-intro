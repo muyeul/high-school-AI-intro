{
  "nbformat": 4,
  "nbformat_minor": 0,
  "metadata": {
    "colab": {
      "name": "2-2.ipynb",
      "provenance": [],
      "collapsed_sections": []
    },
    "kernelspec": {
      "name": "python3",
      "display_name": "Python 3"
    },
    "language_info": {
      "name": "python"
    }
  },
  "cells": [
    {
      "cell_type": "markdown",
      "metadata": {
        "id": "-KN-CwVp0SVP"
      },
      "source": [
        "2-2 정형데이터- 리스트를 배열로 표현하기"
      ]
    },
    {
      "cell_type": "code",
      "metadata": {
        "colab": {
          "base_uri": "https://localhost:8080/"
        },
        "id": "3k_RZCqC0MEP",
        "outputId": "757c2e25-5864-4b2d-de96-64eaeb53566b"
      },
      "source": [
        "import numpy as np\n",
        "\n",
        "내과 = [79, 60, 50, 31]\n",
        "외과 = [25, 8, 6, 3]\n",
        "정형외과 = [28, 28, 26, 17]\n",
        "소아청소년과 = [28, 28, 25, 23]\n",
        "안과 = [68, 18, 15, 14]\n",
        "\n",
        "병원수 = np.array([내과, 외과, 정형외과, 소아청소년과, 안과])\n",
        "\n",
        "print(병원수)\n",
        "\n",
        "print(병원수.shape)"
      ],
      "execution_count": null,
      "outputs": [
        {
          "output_type": "stream",
          "text": [
            "[[79 60 50 31]\n",
            " [25  8  6  3]\n",
            " [28 28 26 17]\n",
            " [28 28 25 23]\n",
            " [68 18 15 14]]\n",
            "(5, 4)\n"
          ],
          "name": "stdout"
        }
      ]
    }
  ]
}